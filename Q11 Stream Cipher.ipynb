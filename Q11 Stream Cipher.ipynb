{
 "cells": [
  {
   "cell_type": "code",
   "execution_count": 10,
   "id": "7170f0ea-04cc-45d0-9d50-fd3e481ed84b",
   "metadata": {},
   "outputs": [
    {
     "name": "stdin",
     "output_type": "stream",
     "text": [
      "Enter the plaintext: 101\n"
     ]
    },
    {
     "name": "stdout",
     "output_type": "stream",
     "text": [
      "Ciphertext: 000\n",
      "Decrypted plaintext: 101\n"
     ]
    }
   ],
   "source": [
    "#stream cipher: invert every even bit, if total bits even else invert every odd bit\n",
    "def encrypt_stream_cipher(plaintext):\n",
    "    ciphertext = ''\n",
    "    for i, char in enumerate(plaintext):\n",
    "        if len(plaintext) % 2 == 0 and (i + 1) % 2 == 0:\n",
    "            ciphertext += '0' if char == '1' else '1'\n",
    "        elif len(plaintext) % 2 != 0 and (i + 1) % 2 != 0:\n",
    "            ciphertext += '0' if char == '1' else '1'\n",
    "        else:\n",
    "            ciphertext += char\n",
    "    return ciphertext\n",
    "\n",
    "def decrypt_stream_cipher(ciphertext, num_chars):\n",
    "    decrypted_text = ''\n",
    "    for i, char in enumerate(ciphertext):\n",
    "        if num_chars % 2 == 0 and (i + 1) % 2 == 0:\n",
    "            decrypted_text += '0' if char == '1' else '1'\n",
    "        elif num_chars % 2 != 0 and (i + 1) % 2 != 0:\n",
    "            decrypted_text += '0' if char == '1' else '1'\n",
    "        else:\n",
    "            decrypted_text += char\n",
    "    return decrypted_text\n",
    "\n",
    "\n",
    "plaintext =input(\"Enter the plaintext:\")\n",
    "\n",
    "# Encrypt the plaintext\n",
    "ciphertext = encrypt_stream_cipher(plaintext)\n",
    "print(\"Ciphertext:\", ciphertext)\n",
    "\n",
    "# Decrypt the ciphertext\n",
    "decrypted_text = decrypt_stream_cipher(ciphertext, len(plaintext))\n",
    "print(\"Decrypted plaintext:\", decrypted_text)\n"
   ]
  },
  {
   "cell_type": "code",
   "execution_count": null,
   "id": "106b627c-6782-4f65-b9ef-551a7a10d5b6",
   "metadata": {},
   "outputs": [],
   "source": []
  }
 ],
 "metadata": {
  "kernelspec": {
   "display_name": "Python 3 (ipykernel)",
   "language": "python",
   "name": "python3"
  },
  "language_info": {
   "codemirror_mode": {
    "name": "ipython",
    "version": 3
   },
   "file_extension": ".py",
   "mimetype": "text/x-python",
   "name": "python",
   "nbconvert_exporter": "python",
   "pygments_lexer": "ipython3",
   "version": "3.11.7"
  }
 },
 "nbformat": 4,
 "nbformat_minor": 5
}
