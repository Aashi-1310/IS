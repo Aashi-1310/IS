{
 "cells": [
  {
   "cell_type": "code",
   "execution_count": 6,
   "id": "8f6590cf-7ee8-42fc-9ac1-9dd4ab20a7ad",
   "metadata": {},
   "outputs": [
    {
     "name": "stdin",
     "output_type": "stream",
     "text": [
      "Enter the text:  HELLO\n",
      "Enter the value of key:  3\n"
     ]
    },
    {
     "name": "stdout",
     "output_type": "stream",
     "text": [
      "Encrypted text: KHOOR\n",
      "Decrypted text: HELLO\n"
     ]
    }
   ],
   "source": [
    "def caesar_cipher(text, key): \n",
    "    result=\"\"\n",
    "    for char in text:\n",
    "        if char.isalpha():  # Check if the character is a letter\n",
    "            if char.isupper():  # For uppercase letters\n",
    "                result += chr((ord(char) - ord('A') + key) % 26 + ord('A'))\n",
    "            else:  # For lowercase letters\n",
    "                result += chr((ord(char) - ord('a') + key) % 26 + ord('a'))\n",
    "        else:\n",
    "            result += char  #Non alphabets remian same\n",
    "    \n",
    "    return result\n",
    "    \n",
    "text = input(\"Enter the text: \")\n",
    "key = int(input(\"Enter the value of key: \"))\n",
    "encrypted_text = caesar_cipher(text, key)\n",
    "print(\"Encrypted text:\", encrypted_text)\n",
    "decrypted_text = caesar_cipher(encrypted_text, (-key))\n",
    "print(\"Decrypted text:\", decrypted_text)"
   ]
  },
  {
   "cell_type": "code",
   "execution_count": null,
   "id": "77f9aa34-47bf-463a-9417-e9ada788650b",
   "metadata": {},
   "outputs": [],
   "source": []
  }
 ],
 "metadata": {
  "kernelspec": {
   "display_name": "Python 3 (ipykernel)",
   "language": "python",
   "name": "python3"
  },
  "language_info": {
   "codemirror_mode": {
    "name": "ipython",
    "version": 3
   },
   "file_extension": ".py",
   "mimetype": "text/x-python",
   "name": "python",
   "nbconvert_exporter": "python",
   "pygments_lexer": "ipython3",
   "version": "3.11.7"
  }
 },
 "nbformat": 4,
 "nbformat_minor": 5
}
