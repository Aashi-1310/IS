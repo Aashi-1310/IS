{
 "cells": [
  {
   "cell_type": "code",
   "execution_count": 1,
   "id": "79b9d4cf-8bd9-4307-9548-c7f96a2750ab",
   "metadata": {},
   "outputs": [
    {
     "name": "stdin",
     "output_type": "stream",
     "text": [
      "Enter the text:  hello\n"
     ]
    },
    {
     "name": "stdout",
     "output_type": "stream",
     "text": [
      "Encrypted text: hloel\n",
      "Decrypted text: hello\n"
     ]
    }
   ],
   "source": [
    "def encrypt_rail_fence(plaintext, rails=2):\n",
    "\n",
    "    fence = [[] for _ in range(rails)]\n",
    "    rail = 0\n",
    "    direction = 1\n",
    "    #plaintext= plaintext.replace(\" \", \"\")\n",
    "    for char in plaintext:\n",
    "        fence[rail].append(char)\n",
    "        rail += direction\n",
    "        if rail == rails - 1 or rail == 0:\n",
    "            direction = -direction\n",
    "\n",
    "    ciphertext = ''.join([''.join(rail) for rail in fence])\n",
    "    return ciphertext\n",
    "def decrypt(code):\n",
    "    p1=[]\n",
    "    p2=[]\n",
    "    i=0\n",
    "    while(i<(len(code)/2)):\n",
    "        p1.append(code[i])\n",
    "        i+=1\n",
    "    while(i<len(code)):\n",
    "        p2.append(code[i])\n",
    "        i+=1\n",
    "    j=0\n",
    "    str=''\n",
    "    if len(code)%2==0:\n",
    "        while j < len(p1):  \n",
    "            str += p1[j]\n",
    "            str += p2[j]\n",
    "            j += 1\n",
    "    else:\n",
    "        while j < len(p2):  \n",
    "            str += p1[j]\n",
    "            str += p2[j]\n",
    "            j += 1\n",
    "        str+=p1[j]\n",
    "    return str\n",
    "\n",
    "plaintext = input(\"Enter the text: \")\n",
    "\n",
    "ciphertext = encrypt_rail_fence(plaintext, 2)\n",
    "print(\"Encrypted text:\", ciphertext)\n",
    "\n",
    "plaintext=decrypt(ciphertext)\n",
    "print(\"Decrypted text:\", plaintext)"
   ]
  },
  {
   "cell_type": "code",
   "execution_count": null,
   "id": "dd0cd95e-27d4-45c7-a5ab-4145566351e6",
   "metadata": {},
   "outputs": [],
   "source": []
  }
 ],
 "metadata": {
  "kernelspec": {
   "display_name": "Python 3 (ipykernel)",
   "language": "python",
   "name": "python3"
  },
  "language_info": {
   "codemirror_mode": {
    "name": "ipython",
    "version": 3
   },
   "file_extension": ".py",
   "mimetype": "text/x-python",
   "name": "python",
   "nbconvert_exporter": "python",
   "pygments_lexer": "ipython3",
   "version": "3.11.7"
  }
 },
 "nbformat": 4,
 "nbformat_minor": 5
}
