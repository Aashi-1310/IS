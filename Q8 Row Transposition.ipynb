{
 "cells": [
  {
   "cell_type": "code",
   "execution_count": 17,
   "id": "64b3b68b-7cba-44aa-804f-783236a5940f",
   "metadata": {},
   "outputs": [
    {
     "name": "stdin",
     "output_type": "stream",
     "text": [
      "Enter the plaintext:  hello how are you\n",
      "Enter the key:  2143\n"
     ]
    },
    {
     "name": "stdout",
     "output_type": "stream",
     "text": [
      "[2, 1, 4, 3]\n",
      "Encrypted text:  hoaheurol ewl   o y\n",
      "Decrypted text: hello how are you   \n"
     ]
    }
   ],
   "source": [
    "def encrypt_row_transposition(plaintext, key):\n",
    "\n",
    "    num_rows = len(key)\n",
    "    num_columns = len(plaintext) // num_rows + (1 if len(plaintext) % num_rows != 0 else 0)\n",
    "    matrix = [[' ' for _ in range(num_columns)] for _ in range(num_rows)]\n",
    "\n",
    "    # Fill the matrix with the plaintext\n",
    "    index = 0\n",
    "    for row in range(num_rows):\n",
    "        for column in range(num_columns):\n",
    "            if index < len(plaintext):\n",
    "                matrix[row][column] = plaintext[index]\n",
    "                index += 1\n",
    "\n",
    "    # Read the matrix in the order specified by the key\n",
    "    ciphertext = ''\n",
    "    \n",
    "    for column in range(num_columns):\n",
    "        for row in key:\n",
    "            ciphertext += matrix[row - 1][column]\n",
    "\n",
    "    return ciphertext\n",
    "\n",
    "def decrypt_row_transposition(ciphertext, key):\n",
    " \n",
    "    num_rows = len(key)\n",
    "    num_columns = len(ciphertext) // num_rows + (1 if len(ciphertext) % num_rows != 0 else 0)\n",
    "    matrix = [[' ' for _ in range(num_columns)] for _ in range(num_rows)]\n",
    "\n",
    "    # Fill the matrix with the ciphertext in the order specified by the key\n",
    "    index = 0\n",
    "    \n",
    "    for column in range(num_columns):\n",
    "        for row in key:\n",
    "            if index < len(ciphertext):\n",
    "                matrix[row - 1][column] = ciphertext[index]\n",
    "                index += 1\n",
    "\n",
    "    # Read the matrix col by col to get the plaintext\n",
    "    plaintext = ''\n",
    "    for row in range(num_rows):\n",
    "        for column in range(num_columns):\n",
    "            plaintext += matrix[row][column]\n",
    "\n",
    "    return plaintext\n",
    "\n",
    "key=[]\n",
    "plaintext = input(\"Enter the plaintext: \")\n",
    "k = input(\"Enter the key: \")\n",
    "for i in k:\n",
    "    key.append(int(i))\n",
    "print(key)\n",
    "\n",
    "# Encrypt the plaintext\n",
    "ciphertext = encrypt_row_transposition(plaintext, key)\n",
    "print(\"Encrypted text:\", ciphertext)\n",
    "\n",
    "# Decrypt the ciphertext\n",
    "decrypted_text = decrypt_row_transposition(ciphertext, key)\n",
    "print(\"Decrypted text:\", decrypted_text)\n"
   ]
  },
  {
   "cell_type": "code",
   "execution_count": null,
   "id": "7de8daf9-faf6-4444-8a7f-45adcb304f1c",
   "metadata": {},
   "outputs": [],
   "source": []
  }
 ],
 "metadata": {
  "kernelspec": {
   "display_name": "Python 3 (ipykernel)",
   "language": "python",
   "name": "python3"
  },
  "language_info": {
   "codemirror_mode": {
    "name": "ipython",
    "version": 3
   },
   "file_extension": ".py",
   "mimetype": "text/x-python",
   "name": "python",
   "nbconvert_exporter": "python",
   "pygments_lexer": "ipython3",
   "version": "3.11.7"
  }
 },
 "nbformat": 4,
 "nbformat_minor": 5
}
