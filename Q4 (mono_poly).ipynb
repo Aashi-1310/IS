{
 "cells": [
  {
   "cell_type": "code",
   "execution_count": 8,
   "id": "8f6590cf-7ee8-42fc-9ac1-9dd4ab20a7ad",
   "metadata": {},
   "outputs": [
    {
     "name": "stdin",
     "output_type": "stream",
     "text": [
      "Enter the text:  hello to u\n"
     ]
    },
    {
     "name": "stdout",
     "output_type": "stream",
     "text": [
      "Generated Key: {'a': 'e', 'b': 'w', 'c': 'v', 'd': 'y', 'e': 'b', 'f': 'x', 'g': 'a', 'h': 'n', 'i': 'o', 'j': 'j', 'k': 'd', 'l': 'f', 'm': 'm', 'n': 'g', 'o': 'c', 'p': 'l', 'q': 'h', 'r': 'k', 's': 'z', 't': 'u', 'u': 'q', 'v': 'p', 'w': 't', 'x': 'r', 'y': 'i', 'z': 's'}\n",
      "Encrypted text: nbffc uc q\n",
      "Decrypted text: HELLO TO U\n"
     ]
    }
   ],
   "source": [
    "import random\n",
    "\n",
    "def generate_key():\n",
    "    alphabet = 'abcdefghijklmnopqrstuvwxyz'\n",
    "    shuffled_alphabet = list(alphabet)\n",
    "    random.shuffle(shuffled_alphabet)\n",
    "    \n",
    "    key = {}\n",
    "    for i in range(len(alphabet)):\n",
    "        key[alphabet[i]] = shuffled_alphabet[i]\n",
    "    \n",
    "    return key\n",
    "\n",
    "def monoalphabetic_cipher(text, key, decrypt=False):\n",
    "\n",
    "    result = \"\"\n",
    "    \n",
    "    for char in text:\n",
    "        if char.isalpha():  # Check if the character is a letter\n",
    "            char = char.lower()  # Convert to lowercase for consistent mapping\n",
    "            if decrypt:\n",
    "                for k,v in key.items():       #finding corresponding alphabet for the encrypted char\n",
    "                    if char==v:\n",
    "                        result +=k.upper()\n",
    "            else:\n",
    "                result += key[char]\n",
    "        else:\n",
    "            result += char \n",
    "    \n",
    "    return result\n",
    "\n",
    "\n",
    "text = input(\"Enter the text: \")\n",
    "\n",
    "# Generate a random key\n",
    "key = generate_key()\n",
    "\n",
    "print(\"Generated Key:\", key)\n",
    "\n",
    "# Encrypt the text\n",
    "encrypted_text = monoalphabetic_cipher(text, key)\n",
    "print(\"Encrypted text:\", encrypted_text)\n",
    "\n",
    "# Decrypt the text using the same key\n",
    "decrypted_text = monoalphabetic_cipher(encrypted_text, key, decrypt=True)\n",
    "print(\"Decrypted text:\", decrypted_text)"
   ]
  },
  {
   "cell_type": "code",
   "execution_count": 3,
   "id": "4bfe23c5-69ab-4390-9e5a-66d1643eb000",
   "metadata": {},
   "outputs": [
    {
     "name": "stdin",
     "output_type": "stream",
     "text": [
      "Enter the text:  pay more money\n",
      "Enter the Key: computer\n"
     ]
    },
    {
     "name": "stdout",
     "output_type": "stream",
     "text": [
      "Encrypted text: rok biki dqbqn\n",
      "Decrypted text: pay more money\n"
     ]
    }
   ],
   "source": [
    "def vigenere_cipher(plaintext, key, mode='encrypt'):\n",
    "    ciphertext = ''                              \n",
    "    key_length = len(key)                        \n",
    "    key_index = 0                                # Initialize an index to keep track of the current position alphabets in the key\n",
    "    \n",
    "    for char in plaintext:                       \n",
    "        if char.isalpha():                       \n",
    "            shift = ord(key[key_index].upper()) - ord('A')  # Calculate the shift value based on the current letter of the key\n",
    "            if mode == 'decrypt':                \n",
    "                shift = -shift                   # In decryption mode, the shift is negative\n",
    "            new_char = chr((ord(char.upper()) - ord('A') + shift) % 26 + ord('A'))  # Apply the shift to the current character\n",
    "            ciphertext += new_char.lower() if char.islower() else new_char  \n",
    "            key_index = (key_index + 1) % key_length  # Move to the next letter of the key, looping back to the beginning if necessary\n",
    "        else:\n",
    "            ciphertext += char                  # If the character is not alphabetic, keep it unchanged\n",
    "    \n",
    "    return ciphertext                            \n",
    "\n",
    "\n",
    "plaintext = input(\"Enter the text: \")\n",
    "key = input(\"Enter the Key:\")\n",
    "encrypted_text = vigenere_cipher(plaintext, key)\n",
    "print(\"Encrypted text:\", encrypted_text)\n",
    "\n",
    "decrypted_text = vigenere_cipher(encrypted_text, key, mode='decrypt')\n",
    "print(\"Decrypted text:\", decrypted_text)\n"
   ]
  },
  {
   "cell_type": "code",
   "execution_count": null,
   "id": "3c213e63-fcab-4733-bbaf-aa56de22eae8",
   "metadata": {},
   "outputs": [],
   "source": []
  }
 ],
 "metadata": {
  "kernelspec": {
   "display_name": "Python 3 (ipykernel)",
   "language": "python",
   "name": "python3"
  },
  "language_info": {
   "codemirror_mode": {
    "name": "ipython",
    "version": 3
   },
   "file_extension": ".py",
   "mimetype": "text/x-python",
   "name": "python",
   "nbconvert_exporter": "python",
   "pygments_lexer": "ipython3",
   "version": "3.11.7"
  }
 },
 "nbformat": 4,
 "nbformat_minor": 5
}
