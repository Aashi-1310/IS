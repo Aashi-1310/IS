{
 "cells": [
  {
   "cell_type": "code",
   "execution_count": 2,
   "id": "8f6590cf-7ee8-42fc-9ac1-9dd4ab20a7ad",
   "metadata": {},
   "outputs": [
    {
     "name": "stdin",
     "output_type": "stream",
     "text": [
      "Enter data to be encoded (binary):  11011\n"
     ]
    },
    {
     "name": "stdout",
     "output_type": "stream",
     "text": [
      "Encoded data: [0, 0, 1, 0, 1, 0, 1, 0, 1]\n"
     ]
    },
    {
     "name": "stdin",
     "output_type": "stream",
     "text": [
      "Enter received data (binary):  001110101\n"
     ]
    },
    {
     "name": "stdout",
     "output_type": "stream",
     "text": [
      "Decoded data: [1, 1, 0, 1, 1]\n"
     ]
    }
   ],
   "source": [
    "def hamming_encode(data):\n",
    "    # Calculate number of parity bits required\n",
    "    r = 0\n",
    "    while 2 ** r < len(data) + r + 1:\n",
    "        r += 1\n",
    "\n",
    "    # Initialize the encoded data with parity bits as placeholders\n",
    "    encoded_data = [None] * (len(data) + r)\n",
    "    j = 0\n",
    "    k = 0\n",
    "\n",
    "    # Fill in the data bits, leaving space for parity bits\n",
    "    for i in range(1, len(encoded_data) + 1):\n",
    "        if i == 2 ** j:\n",
    "            encoded_data[i - 1] = 0\n",
    "            j += 1\n",
    "        else:\n",
    "            encoded_data[i - 1] = int(data[k])\n",
    "            k += 1\n",
    "\n",
    "    # Calculate parity bits\n",
    "    for i in range(r):\n",
    "        parity_index = 2 ** i - 1\n",
    "        xor = 0\n",
    "        for j in range(parity_index, len(encoded_data), 2 * (i + 1)):\n",
    "            xor ^= int(encoded_data[j])\n",
    "        encoded_data[parity_index] = xor\n",
    "\n",
    "    return encoded_data\n",
    "\n",
    "def hamming_decode(received_data):\n",
    "    # Calculate number of parity bits required\n",
    "    r = 0\n",
    "    while 2 ** r < len(received_data):\n",
    "        r += 1\n",
    "\n",
    "    # Initialize the error \n",
    "    error = 0\n",
    "\n",
    "    # Calculate error\n",
    "    for i in range(r):\n",
    "        parity_index = 2 ** i - 1\n",
    "        xor = 0\n",
    "        for j in range(parity_index, len(received_data), 2 * (i + 1)):\n",
    "            xor ^= received_data[j]\n",
    "        error |= xor << i\n",
    "\n",
    "    # Correct the error if it is non-zero\n",
    "    if error != 0:\n",
    "        error_index = error - 1\n",
    "        received_data[error_index] ^= 1\n",
    "\n",
    "    # Remove parity bits to get the original data\n",
    "    decoded_data = []\n",
    "    j = 0\n",
    "    for i in range(1, len(received_data) + 1):\n",
    "        if i != 2 ** j:\n",
    "            decoded_data.append(received_data[i - 1])\n",
    "        else:\n",
    "            j += 1\n",
    "\n",
    "    return decoded_data\n",
    "\n",
    "# Example usage\n",
    "data = input(\"Enter data to be encoded (binary): \")\n",
    "encoded_data = hamming_encode(data)\n",
    "print(\"Encoded data:\", encoded_data)\n",
    "\n",
    "received_data = list(map(int, input(\"Enter received data (binary): \")))\n",
    "decoded_data = hamming_decode(received_data)\n",
    "print(\"Decoded data:\", decoded_data)"
   ]
  },
  {
   "cell_type": "code",
   "execution_count": null,
   "id": "77f9aa34-47bf-463a-9417-e9ada788650b",
   "metadata": {},
   "outputs": [],
   "source": []
  }
 ],
 "metadata": {
  "kernelspec": {
   "display_name": "Python 3 (ipykernel)",
   "language": "python",
   "name": "python3"
  },
  "language_info": {
   "codemirror_mode": {
    "name": "ipython",
    "version": 3
   },
   "file_extension": ".py",
   "mimetype": "text/x-python",
   "name": "python",
   "nbconvert_exporter": "python",
   "pygments_lexer": "ipython3",
   "version": "3.11.7"
  }
 },
 "nbformat": 4,
 "nbformat_minor": 5
}
